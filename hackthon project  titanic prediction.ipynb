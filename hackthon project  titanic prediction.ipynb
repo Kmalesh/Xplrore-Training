{
 "cells": [
  {
   "cell_type": "markdown",
   "id": "6b43fc44-d73e-4723-ad0f-a7c4f7147058",
   "metadata": {},
   "source": [
    "# import all necessory libraries & Load the data set"
   ]
  },
  {
   "cell_type": "code",
   "execution_count": 40,
   "id": "b8da3a15-1cb0-4b15-9d0a-d550db87aa23",
   "metadata": {},
   "outputs": [
    {
     "data": {
      "text/html": [
       "<div>\n",
       "<style scoped>\n",
       "    .dataframe tbody tr th:only-of-type {\n",
       "        vertical-align: middle;\n",
       "    }\n",
       "\n",
       "    .dataframe tbody tr th {\n",
       "        vertical-align: top;\n",
       "    }\n",
       "\n",
       "    .dataframe thead th {\n",
       "        text-align: right;\n",
       "    }\n",
       "</style>\n",
       "<table border=\"1\" class=\"dataframe\">\n",
       "  <thead>\n",
       "    <tr style=\"text-align: right;\">\n",
       "      <th></th>\n",
       "      <th>PassengerId</th>\n",
       "      <th>Survived</th>\n",
       "      <th>Pclass</th>\n",
       "      <th>Name</th>\n",
       "      <th>Sex</th>\n",
       "      <th>Age</th>\n",
       "      <th>SibSp</th>\n",
       "      <th>Parch</th>\n",
       "      <th>Ticket</th>\n",
       "      <th>Fare</th>\n",
       "      <th>Cabin</th>\n",
       "      <th>Embarked</th>\n",
       "    </tr>\n",
       "  </thead>\n",
       "  <tbody>\n",
       "    <tr>\n",
       "      <th>0</th>\n",
       "      <td>1</td>\n",
       "      <td>0</td>\n",
       "      <td>3</td>\n",
       "      <td>Braund, Mr. Owen Harris</td>\n",
       "      <td>male</td>\n",
       "      <td>22.0</td>\n",
       "      <td>1</td>\n",
       "      <td>0</td>\n",
       "      <td>A/5 21171</td>\n",
       "      <td>7.2500</td>\n",
       "      <td>NaN</td>\n",
       "      <td>S</td>\n",
       "    </tr>\n",
       "    <tr>\n",
       "      <th>1</th>\n",
       "      <td>2</td>\n",
       "      <td>1</td>\n",
       "      <td>1</td>\n",
       "      <td>Cumings, Mrs. John Bradley (Florence Briggs Th...</td>\n",
       "      <td>female</td>\n",
       "      <td>38.0</td>\n",
       "      <td>1</td>\n",
       "      <td>0</td>\n",
       "      <td>PC 17599</td>\n",
       "      <td>71.2833</td>\n",
       "      <td>C85</td>\n",
       "      <td>C</td>\n",
       "    </tr>\n",
       "    <tr>\n",
       "      <th>2</th>\n",
       "      <td>3</td>\n",
       "      <td>1</td>\n",
       "      <td>3</td>\n",
       "      <td>Heikkinen, Miss. Laina</td>\n",
       "      <td>female</td>\n",
       "      <td>26.0</td>\n",
       "      <td>0</td>\n",
       "      <td>0</td>\n",
       "      <td>STON/O2. 3101282</td>\n",
       "      <td>7.9250</td>\n",
       "      <td>NaN</td>\n",
       "      <td>S</td>\n",
       "    </tr>\n",
       "    <tr>\n",
       "      <th>3</th>\n",
       "      <td>4</td>\n",
       "      <td>1</td>\n",
       "      <td>1</td>\n",
       "      <td>Futrelle, Mrs. Jacques Heath (Lily May Peel)</td>\n",
       "      <td>female</td>\n",
       "      <td>35.0</td>\n",
       "      <td>1</td>\n",
       "      <td>0</td>\n",
       "      <td>113803</td>\n",
       "      <td>53.1000</td>\n",
       "      <td>C123</td>\n",
       "      <td>S</td>\n",
       "    </tr>\n",
       "    <tr>\n",
       "      <th>4</th>\n",
       "      <td>5</td>\n",
       "      <td>0</td>\n",
       "      <td>3</td>\n",
       "      <td>Allen, Mr. William Henry</td>\n",
       "      <td>male</td>\n",
       "      <td>35.0</td>\n",
       "      <td>0</td>\n",
       "      <td>0</td>\n",
       "      <td>373450</td>\n",
       "      <td>8.0500</td>\n",
       "      <td>NaN</td>\n",
       "      <td>S</td>\n",
       "    </tr>\n",
       "  </tbody>\n",
       "</table>\n",
       "</div>"
      ],
      "text/plain": [
       "   PassengerId  Survived  Pclass  \\\n",
       "0            1         0       3   \n",
       "1            2         1       1   \n",
       "2            3         1       3   \n",
       "3            4         1       1   \n",
       "4            5         0       3   \n",
       "\n",
       "                                                Name     Sex   Age  SibSp  \\\n",
       "0                            Braund, Mr. Owen Harris    male  22.0      1   \n",
       "1  Cumings, Mrs. John Bradley (Florence Briggs Th...  female  38.0      1   \n",
       "2                             Heikkinen, Miss. Laina  female  26.0      0   \n",
       "3       Futrelle, Mrs. Jacques Heath (Lily May Peel)  female  35.0      1   \n",
       "4                           Allen, Mr. William Henry    male  35.0      0   \n",
       "\n",
       "   Parch            Ticket     Fare Cabin Embarked  \n",
       "0      0         A/5 21171   7.2500   NaN        S  \n",
       "1      0          PC 17599  71.2833   C85        C  \n",
       "2      0  STON/O2. 3101282   7.9250   NaN        S  \n",
       "3      0            113803  53.1000  C123        S  \n",
       "4      0            373450   8.0500   NaN        S  "
      ]
     },
     "execution_count": 40,
     "metadata": {},
     "output_type": "execute_result"
    }
   ],
   "source": [
    "import pandas as pd\n",
    "import numpy as np\n",
    "import matplotlib.pyplot as plt\n",
    "import seaborn as sns\n",
    "\n",
    "\n",
    "titanic_df = pd.read_csv('Titanic-Dataset.csv')\n",
    "\n",
    "\n",
    "# View the first few rows\n",
    "# print(titanic_df.to_string())\n",
    "# titanic_df.tail()\n",
    "titanic_df.head()\n",
    "\n"
   ]
  },
  {
   "cell_type": "markdown",
   "id": "1b5b5505-99b1-4c0e-a597-cf3ead810098",
   "metadata": {},
   "source": [
    "# Describe all the data "
   ]
  },
  {
   "cell_type": "code",
   "execution_count": 41,
   "id": "655ff87d-92b0-45c5-b4eb-1781ac7c17c9",
   "metadata": {},
   "outputs": [
    {
     "data": {
      "text/html": [
       "<div>\n",
       "<style scoped>\n",
       "    .dataframe tbody tr th:only-of-type {\n",
       "        vertical-align: middle;\n",
       "    }\n",
       "\n",
       "    .dataframe tbody tr th {\n",
       "        vertical-align: top;\n",
       "    }\n",
       "\n",
       "    .dataframe thead th {\n",
       "        text-align: right;\n",
       "    }\n",
       "</style>\n",
       "<table border=\"1\" class=\"dataframe\">\n",
       "  <thead>\n",
       "    <tr style=\"text-align: right;\">\n",
       "      <th></th>\n",
       "      <th>PassengerId</th>\n",
       "      <th>Survived</th>\n",
       "      <th>Pclass</th>\n",
       "      <th>Age</th>\n",
       "      <th>SibSp</th>\n",
       "      <th>Parch</th>\n",
       "      <th>Fare</th>\n",
       "    </tr>\n",
       "  </thead>\n",
       "  <tbody>\n",
       "    <tr>\n",
       "      <th>count</th>\n",
       "      <td>891.000000</td>\n",
       "      <td>891.000000</td>\n",
       "      <td>891.000000</td>\n",
       "      <td>714.000000</td>\n",
       "      <td>891.000000</td>\n",
       "      <td>891.000000</td>\n",
       "      <td>891.000000</td>\n",
       "    </tr>\n",
       "    <tr>\n",
       "      <th>mean</th>\n",
       "      <td>446.000000</td>\n",
       "      <td>0.383838</td>\n",
       "      <td>2.308642</td>\n",
       "      <td>29.699118</td>\n",
       "      <td>0.523008</td>\n",
       "      <td>0.381594</td>\n",
       "      <td>32.204208</td>\n",
       "    </tr>\n",
       "    <tr>\n",
       "      <th>std</th>\n",
       "      <td>257.353842</td>\n",
       "      <td>0.486592</td>\n",
       "      <td>0.836071</td>\n",
       "      <td>14.526497</td>\n",
       "      <td>1.102743</td>\n",
       "      <td>0.806057</td>\n",
       "      <td>49.693429</td>\n",
       "    </tr>\n",
       "    <tr>\n",
       "      <th>min</th>\n",
       "      <td>1.000000</td>\n",
       "      <td>0.000000</td>\n",
       "      <td>1.000000</td>\n",
       "      <td>0.420000</td>\n",
       "      <td>0.000000</td>\n",
       "      <td>0.000000</td>\n",
       "      <td>0.000000</td>\n",
       "    </tr>\n",
       "    <tr>\n",
       "      <th>25%</th>\n",
       "      <td>223.500000</td>\n",
       "      <td>0.000000</td>\n",
       "      <td>2.000000</td>\n",
       "      <td>20.125000</td>\n",
       "      <td>0.000000</td>\n",
       "      <td>0.000000</td>\n",
       "      <td>7.910400</td>\n",
       "    </tr>\n",
       "    <tr>\n",
       "      <th>50%</th>\n",
       "      <td>446.000000</td>\n",
       "      <td>0.000000</td>\n",
       "      <td>3.000000</td>\n",
       "      <td>28.000000</td>\n",
       "      <td>0.000000</td>\n",
       "      <td>0.000000</td>\n",
       "      <td>14.454200</td>\n",
       "    </tr>\n",
       "    <tr>\n",
       "      <th>75%</th>\n",
       "      <td>668.500000</td>\n",
       "      <td>1.000000</td>\n",
       "      <td>3.000000</td>\n",
       "      <td>38.000000</td>\n",
       "      <td>1.000000</td>\n",
       "      <td>0.000000</td>\n",
       "      <td>31.000000</td>\n",
       "    </tr>\n",
       "    <tr>\n",
       "      <th>max</th>\n",
       "      <td>891.000000</td>\n",
       "      <td>1.000000</td>\n",
       "      <td>3.000000</td>\n",
       "      <td>80.000000</td>\n",
       "      <td>8.000000</td>\n",
       "      <td>6.000000</td>\n",
       "      <td>512.329200</td>\n",
       "    </tr>\n",
       "  </tbody>\n",
       "</table>\n",
       "</div>"
      ],
      "text/plain": [
       "       PassengerId    Survived      Pclass         Age       SibSp  \\\n",
       "count   891.000000  891.000000  891.000000  714.000000  891.000000   \n",
       "mean    446.000000    0.383838    2.308642   29.699118    0.523008   \n",
       "std     257.353842    0.486592    0.836071   14.526497    1.102743   \n",
       "min       1.000000    0.000000    1.000000    0.420000    0.000000   \n",
       "25%     223.500000    0.000000    2.000000   20.125000    0.000000   \n",
       "50%     446.000000    0.000000    3.000000   28.000000    0.000000   \n",
       "75%     668.500000    1.000000    3.000000   38.000000    1.000000   \n",
       "max     891.000000    1.000000    3.000000   80.000000    8.000000   \n",
       "\n",
       "            Parch        Fare  \n",
       "count  891.000000  891.000000  \n",
       "mean     0.381594   32.204208  \n",
       "std      0.806057   49.693429  \n",
       "min      0.000000    0.000000  \n",
       "25%      0.000000    7.910400  \n",
       "50%      0.000000   14.454200  \n",
       "75%      0.000000   31.000000  \n",
       "max      6.000000  512.329200  "
      ]
     },
     "execution_count": 41,
     "metadata": {},
     "output_type": "execute_result"
    }
   ],
   "source": [
    "titanic_df.describe()"
   ]
  },
  {
   "cell_type": "code",
   "execution_count": 42,
   "id": "c101e2c2-f131-4f0b-8a58-48b20da196e4",
   "metadata": {},
   "outputs": [
    {
     "name": "stdout",
     "output_type": "stream",
     "text": [
      "<class 'pandas.core.frame.DataFrame'>\n",
      "RangeIndex: 891 entries, 0 to 890\n",
      "Data columns (total 12 columns):\n",
      " #   Column       Non-Null Count  Dtype  \n",
      "---  ------       --------------  -----  \n",
      " 0   PassengerId  891 non-null    int64  \n",
      " 1   Survived     891 non-null    int64  \n",
      " 2   Pclass       891 non-null    int64  \n",
      " 3   Name         891 non-null    object \n",
      " 4   Sex          891 non-null    object \n",
      " 5   Age          714 non-null    float64\n",
      " 6   SibSp        891 non-null    int64  \n",
      " 7   Parch        891 non-null    int64  \n",
      " 8   Ticket       891 non-null    object \n",
      " 9   Fare         891 non-null    float64\n",
      " 10  Cabin        204 non-null    object \n",
      " 11  Embarked     889 non-null    object \n",
      "dtypes: float64(2), int64(5), object(5)\n",
      "memory usage: 83.7+ KB\n"
     ]
    }
   ],
   "source": [
    "titanic_df.info()"
   ]
  },
  {
   "cell_type": "markdown",
   "id": "cb0113fe-79b2-4a5e-88f9-fa83f9bd8a49",
   "metadata": {},
   "source": [
    "# check the shape of data"
   ]
  },
  {
   "cell_type": "code",
   "execution_count": 43,
   "id": "6530877c-835b-4db8-ae3c-5405b41cf405",
   "metadata": {},
   "outputs": [
    {
     "data": {
      "text/plain": [
       "(891, 12)"
      ]
     },
     "execution_count": 43,
     "metadata": {},
     "output_type": "execute_result"
    }
   ],
   "source": [
    "titanic_df.shape"
   ]
  },
  {
   "cell_type": "markdown",
   "id": "eadd7530-e6f7-466a-abfe-e048a8b485d0",
   "metadata": {},
   "source": [
    "# check the how many missing values "
   ]
  },
  {
   "cell_type": "code",
   "execution_count": 44,
   "id": "7f29474f-5d89-47c0-8fba-55df995941ca",
   "metadata": {},
   "outputs": [
    {
     "data": {
      "text/plain": [
       "PassengerId      0\n",
       "Survived         0\n",
       "Pclass           0\n",
       "Name             0\n",
       "Sex              0\n",
       "Age            177\n",
       "SibSp            0\n",
       "Parch            0\n",
       "Ticket           0\n",
       "Fare             0\n",
       "Cabin          687\n",
       "Embarked         2\n",
       "dtype: int64"
      ]
     },
     "execution_count": 44,
     "metadata": {},
     "output_type": "execute_result"
    }
   ],
   "source": [
    "titanic_df.isnull().sum()"
   ]
  },
  {
   "cell_type": "markdown",
   "id": "015d791c-9852-4e05-aa28-1c70ac86f92c",
   "metadata": {},
   "source": [
    "   # Count how many Passenger Survived OR not  "
   ]
  },
  {
   "cell_type": "code",
   "execution_count": 45,
   "id": "a92713e6-7d84-423d-852b-e3bfa27fd209",
   "metadata": {},
   "outputs": [
    {
     "data": {
      "text/plain": [
       "Survived\n",
       "0    549\n",
       "1    342\n",
       "Name: count, dtype: int64"
      ]
     },
     "execution_count": 45,
     "metadata": {},
     "output_type": "execute_result"
    }
   ],
   "source": [
    "\n",
    "titanic_df['Survived'].value_counts()\n"
   ]
  },
  {
   "cell_type": "markdown",
   "id": "6b122e84-e33b-479c-92db-646723efbd10",
   "metadata": {},
   "source": [
    "# conver Surviveal pasanger in bar Ghraph (red=0 OR Green=1)"
   ]
  },
  {
   "cell_type": "code",
   "execution_count": 46,
   "id": "23f07fe4-a825-4218-9aaf-f713201b38c0",
   "metadata": {},
   "outputs": [
    {
     "data": {
      "image/png": "[encoded data removed]",
      "text/plain": [
       "<Figure size 500x500 with 1 Axes>"
      ]
     },
     "metadata": {},
     "output_type": "display_data"
    }
   ],
   "source": [
    "plt.figure(figsize=(5,5))\n",
    "plt.bar(list(titanic_df['Survived'].value_counts().keys()), list(titanic_df['Survived'].value_counts()),color=[\"r\",\"g\"])\n",
    "plt.show()"
   ]
  },
  {
   "cell_type": "markdown",
   "id": "0588ef72-3e22-4db2-8832-0438958ed7fd",
   "metadata": {},
   "source": [
    "# count the passanger class "
   ]
  },
  {
   "cell_type": "code",
   "execution_count": 47,
   "id": "d68c9460-6769-4746-ab53-08efd3bc77da",
   "metadata": {},
   "outputs": [
    {
     "data": {
      "text/plain": [
       "Pclass\n",
       "3    491\n",
       "1    216\n",
       "2    184\n",
       "Name: count, dtype: int64"
      ]
     },
     "execution_count": 47,
     "metadata": {},
     "output_type": "execute_result"
    }
   ],
   "source": [
    "titanic_df['Pclass'].value_counts()"
   ]
  },
  {
   "cell_type": "markdown",
   "id": "f296ebed-ae06-4650-b978-aab10997a807",
   "metadata": {},
   "source": [
    "# convert pclass in bar () plot"
   ]
  },
  {
   "cell_type": "code",
   "execution_count": 74,
   "id": "682815b5-e4af-4acd-9a2e-16af57bf3ba9",
   "metadata": {},
   "outputs": [
    {
     "data": {
      "image/png": "[encoded data removed]",
      "text/plain": [
       "<Figure size 500x500 with 1 Axes>"
      ]
     },
     "metadata": {},
     "output_type": "display_data"
    }
   ],
   "source": [
    "# plt.figure(figsize=(5,5))\n",
    "# plt.bar(list(titanic_df['Pclass'].value_counts().keys()), list(titanic_df['Pclass'].value_counts()),color=[\"r\",\"g\",\"y\"])\n",
    "# plt.show()\n",
    "plt.figure(figsize=(5,5))\n",
    "\n",
    "# Bar chart with labels for legend\n",
    "plt.bar(list(titanic_df['Pclass'].value_counts().keys()), \n",
    "        list(titanic_df['Pclass'].value_counts()), \n",
    "        color=[\"r\",\"g\",\"y\"], \n",
    "        label=[\"Pclass 3\", \"Pclass 1\", \"Pclass 2\"])  # order depends on value_counts()\n",
    "\n",
    "# Add legend and labels\n",
    "plt.legend(title=\"Passenger Class\")\n",
    "plt.xlabel(\"Pclass\")\n",
    "plt.ylabel(\"Count\")\n",
    "plt.title(\"Passenger Count by Class\")\n",
    "plt.show()\n"
   ]
  },
  {
   "cell_type": "markdown",
   "id": "6a726d9f-7298-455f-a93f-c497ce5ec67a",
   "metadata": {},
   "source": [
    "# count the Sex(male or female) "
   ]
  },
  {
   "cell_type": "code",
   "execution_count": 49,
   "id": "d38c2080-8df4-430b-8a51-d6f5f50ec415",
   "metadata": {},
   "outputs": [
    {
     "data": {
      "text/plain": [
       "Sex\n",
       "male      577\n",
       "female    314\n",
       "Name: count, dtype: int64"
      ]
     },
     "execution_count": 49,
     "metadata": {},
     "output_type": "execute_result"
    }
   ],
   "source": [
    "titanic_df['Sex'].value_counts()"
   ]
  },
  {
   "cell_type": "markdown",
   "id": "6aab6311-03a0-4e4a-a31d-198fbce82198",
   "metadata": {},
   "source": [
    "# Convert Gendar in bar plot"
   ]
  },
  {
   "cell_type": "code",
   "execution_count": 50,
   "id": "08b3d5ba-00c2-4526-adaf-0600e0f4903b",
   "metadata": {},
   "outputs": [
    {
     "data": {
      "image/png": "[encoded data removed]",
      "text/plain": [
       "<Figure size 500x500 with 1 Axes>"
      ]
     },
     "metadata": {},
     "output_type": "display_data"
    }
   ],
   "source": [
    "plt.figure(figsize=(5,5))\n",
    "plt.bar(list(titanic_df['Sex'].value_counts().keys()), list(titanic_df['Sex'].value_counts()),color=[\"g\",\"y\"])\n",
    "plt.show()"
   ]
  },
  {
   "cell_type": "code",
   "execution_count": 51,
   "id": "4479cea5-dd85-4c4a-aa15-d28b9cb67802",
   "metadata": {},
   "outputs": [
    {
     "data": {
      "image/png": "[encoded data removed]",
      "text/plain": [
       "<Figure size 500x700 with 1 Axes>"
      ]
     },
     "metadata": {},
     "output_type": "display_data"
    }
   ],
   "source": [
    "plt.figure(figsize=(5,7))\n",
    "plt.hist(titanic_df['Age'],color=\"blue\")\n",
    "plt.title(\"Distibution of Age\")\n",
    "plt.xlabel(\"Age\")\n",
    "plt.show()"
   ]
  },
  {
   "cell_type": "markdown",
   "id": "5a595c19-bdf7-4af7-a995-f57ef99841dc",
   "metadata": {},
   "source": [
    "# check nullvalue present in Survived"
   ]
  },
  {
   "cell_type": "code",
   "execution_count": 52,
   "id": "da3c019b-aecb-4779-96a0-0ca256aad434",
   "metadata": {},
   "outputs": [
    {
     "data": {
      "text/plain": [
       "0"
      ]
     },
     "execution_count": 52,
     "metadata": {},
     "output_type": "execute_result"
    }
   ],
   "source": [
    "# titanic_df['Survived'].isnull()\n",
    "# sum(titanic_df['Survived'].isnull())  # if the null is present then will be show True\n",
    "sum(titanic_df['Survived'].isnull())\n",
    "\n"
   ]
  },
  {
   "cell_type": "markdown",
   "id": "02aa1814-3798-45b2-ae69-685fb3a7e3a6",
   "metadata": {},
   "source": [
    "# check nullvalue present in Age"
   ]
  },
  {
   "cell_type": "code",
   "execution_count": 53,
   "id": "032f6212-cedd-4b5f-be7d-9a0ada599597",
   "metadata": {},
   "outputs": [
    {
     "data": {
      "text/plain": [
       "177"
      ]
     },
     "execution_count": 53,
     "metadata": {},
     "output_type": "execute_result"
    }
   ],
   "source": [
    "sum(titanic_df['Age'].isnull())"
   ]
  },
  {
   "cell_type": "markdown",
   "id": "a999d7f8-d49b-48b1-9a60-8725c90d4e0c",
   "metadata": {},
   "source": [
    "# Remove the nullVallue"
   ]
  },
  {
   "cell_type": "code",
   "execution_count": 54,
   "id": "849650d2-e73f-4aa8-a341-8c5218df1af3",
   "metadata": {},
   "outputs": [],
   "source": [
    "titanic_df=titanic_df.dropna()"
   ]
  },
  {
   "cell_type": "markdown",
   "id": "6e19aea6-9ec6-4e8e-aa2e-776cedd9f436",
   "metadata": {},
   "source": [
    "# Check Delete null value"
   ]
  },
  {
   "cell_type": "code",
   "execution_count": 55,
   "id": "f0b9f6ce-efc8-404e-b3c4-e93ac16487e8",
   "metadata": {},
   "outputs": [
    {
     "data": {
      "text/plain": [
       "0"
      ]
     },
     "execution_count": 55,
     "metadata": {},
     "output_type": "execute_result"
    }
   ],
   "source": [
    "sum(titanic_df['Age'].isnull())"
   ]
  },
  {
   "cell_type": "code",
   "execution_count": 56,
   "id": "093f6ae8-1ee1-43e5-89a0-bf27fb1b6b97",
   "metadata": {},
   "outputs": [],
   "source": [
    "x_titanic=titanic_df[['Age']]\n",
    "y_titanic=titanic_df[['Survived']]\n"
   ]
  },
  {
   "cell_type": "markdown",
   "id": "4d809f9e-d42d-451e-87c5-4cdb38c90752",
   "metadata": {},
   "source": [
    "# Build a ClasssiFication Model using Tree Library"
   ]
  },
  {
   "cell_type": "code",
   "execution_count": 57,
   "id": "67f5e1da-716e-4d08-9e36-2063287c152b",
   "metadata": {},
   "outputs": [],
   "source": [
    "from sklearn.tree import DecisionTreeClassifier"
   ]
  },
  {
   "cell_type": "code",
   "execution_count": 58,
   "id": "87d800d2-2609-4740-b70b-7358706e8156",
   "metadata": {},
   "outputs": [],
   "source": [
    "dtc=DecisionTreeClassifier() # dtc is object of DecisionTreeClassifier() \n"
   ]
  },
  {
   "cell_type": "markdown",
   "id": "5846a21e-4e97-4ca7-93d8-1184cb08f567",
   "metadata": {},
   "source": [
    "# building the model using fit() function"
   ]
  },
  {
   "cell_type": "code",
   "execution_count": 59,
   "id": "a800bea2-47c1-454b-b95d-10dfd0c1190a",
   "metadata": {},
   "outputs": [
    {
     "data": {
      "text/html": [
       "<style>#sk-container-id-2 {\n",
       "  /* Definition of color scheme common for light and dark mode */\n",
       "  --sklearn-color-text: black;\n",
       "  --sklearn-color-line: gray;\n",
       "  /* Definition of color scheme for unfitted estimators */\n",
       "  --sklearn-color-unfitted-level-0: #fff5e6;\n",
       "  --sklearn-color-unfitted-level-1: #f6e4d2;\n",
       "  --sklearn-color-unfitted-level-2: #ffe0b3;\n",
       "  --sklearn-color-unfitted-level-3: chocolate;\n",
       "  /* Definition of color scheme for fitted estimators */\n",
       "  --sklearn-color-fitted-level-0: #f0f8ff;\n",
       "  --sklearn-color-fitted-level-1: #d4ebff;\n",
       "  --sklearn-color-fitted-level-2: #b3dbfd;\n",
       "  --sklearn-color-fitted-level-3: cornflowerblue;\n",
       "\n",
       "  /* Specific color for light theme */\n",
       "  --sklearn-color-text-on-default-background: var(--sg-text-color, var(--theme-code-foreground, var(--jp-content-font-color1, black)));\n",
       "  --sklearn-color-background: var(--sg-background-color, var(--theme-background, var(--jp-layout-color0, white)));\n",
       "  --sklearn-color-border-box: var(--sg-text-color, var(--theme-code-foreground, var(--jp-content-font-color1, black)));\n",
       "  --sklearn-color-icon: #696969;\n",
       "\n",
       "  @media (prefers-color-scheme: dark) {\n",
       "    /* Redefinition of color scheme for dark theme */\n",
       "    --sklearn-color-text-on-default-background: var(--sg-text-color, var(--theme-code-foreground, var(--jp-content-font-color1, white)));\n",
       "    --sklearn-color-background: var(--sg-background-color, var(--theme-background, var(--jp-layout-color0, #111)));\n",
       "    --sklearn-color-border-box: var(--sg-text-color, var(--theme-code-foreground, var(--jp-content-font-color1, white)));\n",
       "    --sklearn-color-icon: #878787;\n",
       "  }\n",
       "}\n",
       "\n",
       "#sk-container-id-2 {\n",
       "  color: var(--sklearn-color-text);\n",
       "}\n",
       "\n",
       "#sk-container-id-2 pre {\n",
       "  padding: 0;\n",
       "}\n",
       "\n",
       "#sk-container-id-2 input.sk-hidden--visually {\n",
       "  border: 0;\n",
       "  clip: rect(1px 1px 1px 1px);\n",
       "  clip: rect(1px, 1px, 1px, 1px);\n",
       "  height: 1px;\n",
       "  margin: -1px;\n",
       "  overflow: hidden;\n",
       "  padding: 0;\n",
       "  position: absolute;\n",
       "  width: 1px;\n",
       "}\n",
       "\n",
       "#sk-container-id-2 div.sk-dashed-wrapped {\n",
       "  border: 1px dashed var(--sklearn-color-line);\n",
       "  margin: 0 0.4em 0.5em 0.4em;\n",
       "  box-sizing: border-box;\n",
       "  padding-bottom: 0.4em;\n",
       "  background-color: var(--sklearn-color-background);\n",
       "}\n",
       "\n",
       "#sk-container-id-2 div.sk-container {\n",
       "  /* jupyter's `normalize.less` sets `[hidden] { display: none; }`\n",
       "     but bootstrap.min.css set `[hidden] { display: none !important; }`\n",
       "     so we also need the `!important` here to be able to override the\n",
       "     default hidden behavior on the sphinx rendered scikit-learn.org.\n",
       "     See: https://github.com/scikit-learn/scikit-learn/issues/21755 */\n",
       "  display: inline-block !important;\n",
       "  position: relative;\n",
       "}\n",
       "\n",
       "#sk-container-id-2 div.sk-text-repr-fallback {\n",
       "  display: none;\n",
       "}\n",
       "\n",
       "div.sk-parallel-item,\n",
       "div.sk-serial,\n",
       "div.sk-item {\n",
       "  /* draw centered vertical line to link estimators */\n",
       "  background-image: linear-gradient(var(--sklearn-color-text-on-default-background), var(--sklearn-color-text-on-default-background));\n",
       "  background-size: 2px 100%;\n",
       "  background-repeat: no-repeat;\n",
       "  background-position: center center;\n",
       "}\n",
       "\n",
       "/* Parallel-specific style estimator block */\n",
       "\n",
       "#sk-container-id-2 div.sk-parallel-item::after {\n",
       "  content: \"\";\n",
       "  width: 100%;\n",
       "  border-bottom: 2px solid var(--sklearn-color-text-on-default-background);\n",
       "  flex-grow: 1;\n",
       "}\n",
       "\n",
       "#sk-container-id-2 div.sk-parallel {\n",
       "  display: flex;\n",
       "  align-items: stretch;\n",
       "  justify-content: center;\n",
       "  background-color: var(--sklearn-color-background);\n",
       "  position: relative;\n",
       "}\n",
       "\n",
       "#sk-container-id-2 div.sk-parallel-item {\n",
       "  display: flex;\n",
       "  flex-direction: column;\n",
       "}\n",
       "\n",
       "#sk-container-id-2 div.sk-parallel-item:first-child::after {\n",
       "  align-self: flex-end;\n",
       "  width: 50%;\n",
       "}\n",
       "\n",
       "#sk-container-id-2 div.sk-parallel-item:last-child::after {\n",
       "  align-self: flex-start;\n",
       "  width: 50%;\n",
       "}\n",
       "\n",
       "#sk-container-id-2 div.sk-parallel-item:only-child::after {\n",
       "  width: 0;\n",
       "}\n",
       "\n",
       "/* Serial-specific style estimator block */\n",
       "\n",
       "#sk-container-id-2 div.sk-serial {\n",
       "  display: flex;\n",
       "  flex-direction: column;\n",
       "  align-items: center;\n",
       "  background-color: var(--sklearn-color-background);\n",
       "  padding-right: 1em;\n",
       "  padding-left: 1em;\n",
       "}\n",
       "\n",
       "\n",
       "/* Toggleable style: style used for estimator/Pipeline/ColumnTransformer box that is\n",
       "clickable and can be expanded/collapsed.\n",
       "- Pipeline and ColumnTransformer use this feature and define the default style\n",
       "- Estimators will overwrite some part of the style using the `sk-estimator` class\n",
       "*/\n",
       "\n",
       "/* Pipeline and ColumnTransformer style (default) */\n",
       "\n",
       "#sk-container-id-2 div.sk-toggleable {\n",
       "  /* Default theme specific background. It is overwritten whether we have a\n",
       "  specific estimator or a Pipeline/ColumnTransformer */\n",
       "  background-color: var(--sklearn-color-background);\n",
       "}\n",
       "\n",
       "/* Toggleable label */\n",
       "#sk-container-id-2 label.sk-toggleable__label {\n",
       "  cursor: pointer;\n",
       "  display: block;\n",
       "  width: 100%;\n",
       "  margin-bottom: 0;\n",
       "  padding: 0.5em;\n",
       "  box-sizing: border-box;\n",
       "  text-align: center;\n",
       "}\n",
       "\n",
       "#sk-container-id-2 label.sk-toggleable__label-arrow:before {\n",
       "  /* Arrow on the left of the label */\n",
       "  content: \"▸\";\n",
       "  float: left;\n",
       "  margin-right: 0.25em;\n",
       "  color: var(--sklearn-color-icon);\n",
       "}\n",
       "\n",
       "#sk-container-id-2 label.sk-toggleable__label-arrow:hover:before {\n",
       "  color: var(--sklearn-color-text);\n",
       "}\n",
       "\n",
       "/* Toggleable content - dropdown */\n",
       "\n",
       "#sk-container-id-2 div.sk-toggleable__content {\n",
       "  max-height: 0;\n",
       "  max-width: 0;\n",
       "  overflow: hidden;\n",
       "  text-align: left;\n",
       "  /* unfitted */\n",
       "  background-color: var(--sklearn-color-unfitted-level-0);\n",
       "}\n",
       "\n",
       "#sk-container-id-2 div.sk-toggleable__content.fitted {\n",
       "  /* fitted */\n",
       "  background-color: var(--sklearn-color-fitted-level-0);\n",
       "}\n",
       "\n",
       "#sk-container-id-2 div.sk-toggleable__content pre {\n",
       "  margin: 0.2em;\n",
       "  border-radius: 0.25em;\n",
       "  color: var(--sklearn-color-text);\n",
       "  /* unfitted */\n",
       "  background-color: var(--sklearn-color-unfitted-level-0);\n",
       "}\n",
       "\n",
       "#sk-container-id-2 div.sk-toggleable__content.fitted pre {\n",
       "  /* unfitted */\n",
       "  background-color: var(--sklearn-color-fitted-level-0);\n",
       "}\n",
       "\n",
       "#sk-container-id-2 input.sk-toggleable__control:checked~div.sk-toggleable__content {\n",
       "  /* Expand drop-down */\n",
       "  max-height: 200px;\n",
       "  max-width: 100%;\n",
       "  overflow: auto;\n",
       "}\n",
       "\n",
       "#sk-container-id-2 input.sk-toggleable__control:checked~label.sk-toggleable__label-arrow:before {\n",
       "  content: \"▾\";\n",
       "}\n",
       "\n",
       "/* Pipeline/ColumnTransformer-specific style */\n",
       "\n",
       "#sk-container-id-2 div.sk-label input.sk-toggleable__control:checked~label.sk-toggleable__label {\n",
       "  color: var(--sklearn-color-text);\n",
       "  background-color: var(--sklearn-color-unfitted-level-2);\n",
       "}\n",
       "\n",
       "#sk-container-id-2 div.sk-label.fitted input.sk-toggleable__control:checked~label.sk-toggleable__label {\n",
       "  background-color: var(--sklearn-color-fitted-level-2);\n",
       "}\n",
       "\n",
       "/* Estimator-specific style */\n",
       "\n",
       "/* Colorize estimator box */\n",
       "#sk-container-id-2 div.sk-estimator input.sk-toggleable__control:checked~label.sk-toggleable__label {\n",
       "  /* unfitted */\n",
       "  background-color: var(--sklearn-color-unfitted-level-2);\n",
       "}\n",
       "\n",
       "#sk-container-id-2 div.sk-estimator.fitted input.sk-toggleable__control:checked~label.sk-toggleable__label {\n",
       "  /* fitted */\n",
       "  background-color: var(--sklearn-color-fitted-level-2);\n",
       "}\n",
       "\n",
       "#sk-container-id-2 div.sk-label label.sk-toggleable__label,\n",
       "#sk-container-id-2 div.sk-label label {\n",
       "  /* The background is the default theme color */\n",
       "  color: var(--sklearn-color-text-on-default-background);\n",
       "}\n",
       "\n",
       "/* On hover, darken the color of the background */\n",
       "#sk-container-id-2 div.sk-label:hover label.sk-toggleable__label {\n",
       "  color: var(--sklearn-color-text);\n",
       "  background-color: var(--sklearn-color-unfitted-level-2);\n",
       "}\n",
       "\n",
       "/* Label box, darken color on hover, fitted */\n",
       "#sk-container-id-2 div.sk-label.fitted:hover label.sk-toggleable__label.fitted {\n",
       "  color: var(--sklearn-color-text);\n",
       "  background-color: var(--sklearn-color-fitted-level-2);\n",
       "}\n",
       "\n",
       "/* Estimator label */\n",
       "\n",
       "#sk-container-id-2 div.sk-label label {\n",
       "  font-family: monospace;\n",
       "  font-weight: bold;\n",
       "  display: inline-block;\n",
       "  line-height: 1.2em;\n",
       "}\n",
       "\n",
       "#sk-container-id-2 div.sk-label-container {\n",
       "  text-align: center;\n",
       "}\n",
       "\n",
       "/* Estimator-specific */\n",
       "#sk-container-id-2 div.sk-estimator {\n",
       "  font-family: monospace;\n",
       "  border: 1px dotted var(--sklearn-color-border-box);\n",
       "  border-radius: 0.25em;\n",
       "  box-sizing: border-box;\n",
       "  margin-bottom: 0.5em;\n",
       "  /* unfitted */\n",
       "  background-color: var(--sklearn-color-unfitted-level-0);\n",
       "}\n",
       "\n",
       "#sk-container-id-2 div.sk-estimator.fitted {\n",
       "  /* fitted */\n",
       "  background-color: var(--sklearn-color-fitted-level-0);\n",
       "}\n",
       "\n",
       "/* on hover */\n",
       "#sk-container-id-2 div.sk-estimator:hover {\n",
       "  /* unfitted */\n",
       "  background-color: var(--sklearn-color-unfitted-level-2);\n",
       "}\n",
       "\n",
       "#sk-container-id-2 div.sk-estimator.fitted:hover {\n",
       "  /* fitted */\n",
       "  background-color: var(--sklearn-color-fitted-level-2);\n",
       "}\n",
       "\n",
       "/* Specification for estimator info (e.g. \"i\" and \"?\") */\n",
       "\n",
       "/* Common style for \"i\" and \"?\" */\n",
       "\n",
       ".sk-estimator-doc-link,\n",
       "a:link.sk-estimator-doc-link,\n",
       "a:visited.sk-estimator-doc-link {\n",
       "  float: right;\n",
       "  font-size: smaller;\n",
       "  line-height: 1em;\n",
       "  font-family: monospace;\n",
       "  background-color: var(--sklearn-color-background);\n",
       "  border-radius: 1em;\n",
       "  height: 1em;\n",
       "  width: 1em;\n",
       "  text-decoration: none !important;\n",
       "  margin-left: 1ex;\n",
       "  /* unfitted */\n",
       "  border: var(--sklearn-color-unfitted-level-1) 1pt solid;\n",
       "  color: var(--sklearn-color-unfitted-level-1);\n",
       "}\n",
       "\n",
       ".sk-estimator-doc-link.fitted,\n",
       "a:link.sk-estimator-doc-link.fitted,\n",
       "a:visited.sk-estimator-doc-link.fitted {\n",
       "  /* fitted */\n",
       "  border: var(--sklearn-color-fitted-level-1) 1pt solid;\n",
       "  color: var(--sklearn-color-fitted-level-1);\n",
       "}\n",
       "\n",
       "/* On hover */\n",
       "div.sk-estimator:hover .sk-estimator-doc-link:hover,\n",
       ".sk-estimator-doc-link:hover,\n",
       "div.sk-label-container:hover .sk-estimator-doc-link:hover,\n",
       ".sk-estimator-doc-link:hover {\n",
       "  /* unfitted */\n",
       "  background-color: var(--sklearn-color-unfitted-level-3);\n",
       "  color: var(--sklearn-color-background);\n",
       "  text-decoration: none;\n",
       "}\n",
       "\n",
       "div.sk-estimator.fitted:hover .sk-estimator-doc-link.fitted:hover,\n",
       ".sk-estimator-doc-link.fitted:hover,\n",
       "div.sk-label-container:hover .sk-estimator-doc-link.fitted:hover,\n",
       ".sk-estimator-doc-link.fitted:hover {\n",
       "  /* fitted */\n",
       "  background-color: var(--sklearn-color-fitted-level-3);\n",
       "  color: var(--sklearn-color-background);\n",
       "  text-decoration: none;\n",
       "}\n",
       "\n",
       "/* Span, style for the box shown on hovering the info icon */\n",
       ".sk-estimator-doc-link span {\n",
       "  display: none;\n",
       "  z-index: 9999;\n",
       "  position: relative;\n",
       "  font-weight: normal;\n",
       "  right: .2ex;\n",
       "  padding: .5ex;\n",
       "  margin: .5ex;\n",
       "  width: min-content;\n",
       "  min-width: 20ex;\n",
       "  max-width: 50ex;\n",
       "  color: var(--sklearn-color-text);\n",
       "  box-shadow: 2pt 2pt 4pt #999;\n",
       "  /* unfitted */\n",
       "  background: var(--sklearn-color-unfitted-level-0);\n",
       "  border: .5pt solid var(--sklearn-color-unfitted-level-3);\n",
       "}\n",
       "\n",
       ".sk-estimator-doc-link.fitted span {\n",
       "  /* fitted */\n",
       "  background: var(--sklearn-color-fitted-level-0);\n",
       "  border: var(--sklearn-color-fitted-level-3);\n",
       "}\n",
       "\n",
       ".sk-estimator-doc-link:hover span {\n",
       "  display: block;\n",
       "}\n",
       "\n",
       "/* \"?\"-specific style due to the `<a>` HTML tag */\n",
       "\n",
       "#sk-container-id-2 a.estimator_doc_link {\n",
       "  float: right;\n",
       "  font-size: 1rem;\n",
       "  line-height: 1em;\n",
       "  font-family: monospace;\n",
       "  background-color: var(--sklearn-color-background);\n",
       "  border-radius: 1rem;\n",
       "  height: 1rem;\n",
       "  width: 1rem;\n",
       "  text-decoration: none;\n",
       "  /* unfitted */\n",
       "  color: var(--sklearn-color-unfitted-level-1);\n",
       "  border: var(--sklearn-color-unfitted-level-1) 1pt solid;\n",
       "}\n",
       "\n",
       "#sk-container-id-2 a.estimator_doc_link.fitted {\n",
       "  /* fitted */\n",
       "  border: var(--sklearn-color-fitted-level-1) 1pt solid;\n",
       "  color: var(--sklearn-color-fitted-level-1);\n",
       "}\n",
       "\n",
       "/* On hover */\n",
       "#sk-container-id-2 a.estimator_doc_link:hover {\n",
       "  /* unfitted */\n",
       "  background-color: var(--sklearn-color-unfitted-level-3);\n",
       "  color: var(--sklearn-color-background);\n",
       "  text-decoration: none;\n",
       "}\n",
       "\n",
       "#sk-container-id-2 a.estimator_doc_link.fitted:hover {\n",
       "  /* fitted */\n",
       "  background-color: var(--sklearn-color-fitted-level-3);\n",
       "}\n",
       "</style><div id=\"sk-container-id-2\" class=\"sk-top-container\"><div class=\"sk-text-repr-fallback\"><pre>DecisionTreeClassifier()</pre><b>In a Jupyter environment, please rerun this cell to show the HTML representation or trust the notebook. <br />On GitHub, the HTML representation is unable to render, please try loading this page with nbviewer.org.</b></div><div class=\"sk-container\" hidden><div class=\"sk-item\"><div class=\"sk-estimator fitted sk-toggleable\"><input class=\"sk-toggleable__control sk-hidden--visually\" id=\"sk-estimator-id-2\" type=\"checkbox\" checked><label for=\"sk-estimator-id-2\" class=\"sk-toggleable__label fitted sk-toggleable__label-arrow fitted\">&nbsp;&nbsp;DecisionTreeClassifier<a class=\"sk-estimator-doc-link fitted\" rel=\"noreferrer\" target=\"_blank\" href=\"https://scikit-learn.org/1.5/modules/generated/sklearn.tree.DecisionTreeClassifier.html\">?<span>Documentation for DecisionTreeClassifier</span></a><span class=\"sk-estimator-doc-link fitted\">i<span>Fitted</span></span></label><div class=\"sk-toggleable__content fitted\"><pre>DecisionTreeClassifier()</pre></div> </div></div></div></div>"
      ],
      "text/plain": [
       "DecisionTreeClassifier()"
      ]
     },
     "execution_count": 59,
     "metadata": {},
     "output_type": "execute_result"
    }
   ],
   "source": [
    "dtc.fit(x_titanic,y_titanic)"
   ]
  },
  {
   "cell_type": "markdown",
   "id": "998f2833-cbf2-4932-bf4f-76651615611d",
   "metadata": {},
   "source": [
    "# predicting the values"
   ]
  },
  {
   "cell_type": "code",
   "execution_count": 60,
   "id": "37b37437-c8fc-4d77-a3d5-c792958bdae9",
   "metadata": {},
   "outputs": [
    {
     "data": {
      "text/plain": [
       "0"
      ]
     },
     "execution_count": 60,
     "metadata": {},
     "output_type": "execute_result"
    }
   ],
   "source": [
    "sum(titanic_df['Age'].isnull())"
   ]
  },
  {
   "cell_type": "code",
   "execution_count": 61,
   "id": "aa4da2cf-c12f-4378-b017-c59ccc8d2e3e",
   "metadata": {},
   "outputs": [],
   "source": [
    "x_titaniic=titanic_df[['Age']]"
   ]
  },
  {
   "cell_type": "markdown",
   "id": "00e507ca-ff0b-40a6-bc3a-af63e60c211b",
   "metadata": {},
   "source": [
    "# predict the Servival passengers"
   ]
  },
  {
   "cell_type": "code",
   "execution_count": 62,
   "id": "9329e5d7-6f7c-421c-8fb2-4b415b02dff0",
   "metadata": {},
   "outputs": [],
   "source": [
    "y_pred=dtc.predict(x_titanic)\n"
   ]
  },
  {
   "cell_type": "code",
   "execution_count": 63,
   "id": "c6f19bdc-c283-4a82-811f-991d73090643",
   "metadata": {},
   "outputs": [
    {
     "data": {
      "text/plain": [
       "array([1, 1, 0, 1, 1, 1, 1, 0, 1, 0, 0, 0, 0, 1, 0, 0, 1, 1, 0, 1, 1, 0,\n",
       "       0, 0, 1, 0, 1, 0, 1, 0, 1, 1, 1, 1, 0, 1, 1, 1, 1, 1, 1, 0, 0, 0,\n",
       "       1, 1, 1, 1, 1, 0, 1, 0, 1, 0, 0, 1, 1, 1, 1, 1, 1, 1, 1, 1, 1, 0,\n",
       "       1, 0, 1, 0, 0, 1, 1, 1, 1, 1, 0, 1, 1, 1, 1, 1, 1, 1, 0, 1, 0, 1,\n",
       "       1, 1, 1, 0, 1, 0, 1, 0, 1, 1, 0, 0, 0, 1, 1, 1, 0, 1, 1, 1, 0, 1,\n",
       "       1, 0, 1, 1, 1, 1, 1, 1, 1, 1, 1, 1, 1, 1, 1, 1, 1, 0, 1, 1, 1, 1,\n",
       "       1, 1, 1, 0, 1, 1, 1, 1, 1, 1, 1, 1, 1, 1, 1, 1, 0, 1, 1, 1, 0, 1,\n",
       "       1, 1, 0, 0, 1, 1, 1, 1, 0, 1, 1, 0, 0, 1, 1, 1, 1, 1, 1, 1, 1, 1,\n",
       "       1, 1, 0, 1, 1, 0, 1], dtype=int64)"
      ]
     },
     "execution_count": 63,
     "metadata": {},
     "output_type": "execute_result"
    }
   ],
   "source": [
    "y_pred"
   ]
  },
  {
   "cell_type": "code",
   "execution_count": 73,
   "id": "96c2df4e-3eb6-4bde-8aa6-7450dadbfc50",
   "metadata": {},
   "outputs": [
    {
     "name": "stdout",
     "output_type": "stream",
     "text": [
      "Passenger 1: Survived\n",
      "Passenger 2: Survived\n",
      "Passenger 3: Did not survive\n",
      "Passenger 4: Survived\n",
      "Passenger 5: Survived\n",
      "Passenger 6: Survived\n",
      "Passenger 7: Survived\n",
      "Passenger 8: Did not survive\n",
      "Passenger 9: Survived\n",
      "Passenger 10: Did not survive\n",
      "Passenger 11: Did not survive\n",
      "Passenger 12: Did not survive\n",
      "Passenger 13: Did not survive\n",
      "Passenger 14: Survived\n",
      "Passenger 15: Did not survive\n",
      "Passenger 16: Did not survive\n",
      "Passenger 17: Survived\n",
      "Passenger 18: Survived\n",
      "Passenger 19: Did not survive\n",
      "Passenger 20: Survived\n",
      "Passenger 21: Survived\n",
      "Passenger 22: Did not survive\n",
      "Passenger 23: Did not survive\n",
      "Passenger 24: Did not survive\n",
      "Passenger 25: Survived\n",
      "Passenger 26: Did not survive\n",
      "Passenger 27: Survived\n",
      "Passenger 28: Did not survive\n",
      "Passenger 29: Survived\n",
      "Passenger 30: Did not survive\n",
      "Passenger 31: Survived\n",
      "Passenger 32: Survived\n",
      "Passenger 33: Survived\n",
      "Passenger 34: Survived\n",
      "Passenger 35: Did not survive\n",
      "Passenger 36: Survived\n",
      "Passenger 37: Survived\n",
      "Passenger 38: Survived\n",
      "Passenger 39: Survived\n",
      "Passenger 40: Survived\n",
      "Passenger 41: Survived\n",
      "Passenger 42: Did not survive\n",
      "Passenger 43: Did not survive\n",
      "Passenger 44: Did not survive\n",
      "Passenger 45: Survived\n",
      "Passenger 46: Survived\n",
      "Passenger 47: Survived\n",
      "Passenger 48: Survived\n",
      "Passenger 49: Survived\n",
      "Passenger 50: Did not survive\n",
      "Passenger 51: Survived\n",
      "Passenger 52: Did not survive\n",
      "Passenger 53: Survived\n",
      "Passenger 54: Did not survive\n",
      "Passenger 55: Did not survive\n",
      "Passenger 56: Survived\n",
      "Passenger 57: Survived\n",
      "Passenger 58: Survived\n",
      "Passenger 59: Survived\n",
      "Passenger 60: Survived\n",
      "Passenger 61: Survived\n",
      "Passenger 62: Survived\n",
      "Passenger 63: Survived\n",
      "Passenger 64: Survived\n",
      "Passenger 65: Survived\n",
      "Passenger 66: Did not survive\n",
      "Passenger 67: Survived\n",
      "Passenger 68: Did not survive\n",
      "Passenger 69: Survived\n",
      "Passenger 70: Did not survive\n",
      "Passenger 71: Did not survive\n",
      "Passenger 72: Survived\n",
      "Passenger 73: Survived\n",
      "Passenger 74: Survived\n",
      "Passenger 75: Survived\n",
      "Passenger 76: Survived\n",
      "Passenger 77: Did not survive\n",
      "Passenger 78: Survived\n",
      "Passenger 79: Survived\n",
      "Passenger 80: Survived\n",
      "Passenger 81: Survived\n",
      "Passenger 82: Survived\n",
      "Passenger 83: Survived\n",
      "Passenger 84: Survived\n",
      "Passenger 85: Did not survive\n",
      "Passenger 86: Survived\n",
      "Passenger 87: Did not survive\n",
      "Passenger 88: Survived\n",
      "Passenger 89: Survived\n",
      "Passenger 90: Survived\n",
      "Passenger 91: Survived\n",
      "Passenger 92: Did not survive\n",
      "Passenger 93: Survived\n",
      "Passenger 94: Did not survive\n",
      "Passenger 95: Survived\n",
      "Passenger 96: Did not survive\n",
      "Passenger 97: Survived\n",
      "Passenger 98: Survived\n",
      "Passenger 99: Did not survive\n",
      "Passenger 100: Did not survive\n",
      "Passenger 101: Did not survive\n",
      "Passenger 102: Survived\n",
      "Passenger 103: Survived\n",
      "Passenger 104: Survived\n",
      "Passenger 105: Did not survive\n",
      "Passenger 106: Survived\n",
      "Passenger 107: Survived\n",
      "Passenger 108: Survived\n",
      "Passenger 109: Did not survive\n",
      "Passenger 110: Survived\n",
      "Passenger 111: Survived\n",
      "Passenger 112: Did not survive\n",
      "Passenger 113: Survived\n",
      "Passenger 114: Survived\n",
      "Passenger 115: Survived\n",
      "Passenger 116: Survived\n",
      "Passenger 117: Survived\n",
      "Passenger 118: Survived\n",
      "Passenger 119: Survived\n",
      "Passenger 120: Survived\n",
      "Passenger 121: Survived\n",
      "Passenger 122: Survived\n",
      "Passenger 123: Survived\n",
      "Passenger 124: Survived\n",
      "Passenger 125: Survived\n",
      "Passenger 126: Survived\n",
      "Passenger 127: Survived\n",
      "Passenger 128: Did not survive\n",
      "Passenger 129: Survived\n",
      "Passenger 130: Survived\n",
      "Passenger 131: Survived\n",
      "Passenger 132: Survived\n",
      "Passenger 133: Survived\n",
      "Passenger 134: Survived\n",
      "Passenger 135: Survived\n",
      "Passenger 136: Did not survive\n",
      "Passenger 137: Survived\n",
      "Passenger 138: Survived\n",
      "Passenger 139: Survived\n",
      "Passenger 140: Survived\n",
      "Passenger 141: Survived\n",
      "Passenger 142: Survived\n",
      "Passenger 143: Survived\n",
      "Passenger 144: Survived\n",
      "Passenger 145: Survived\n",
      "Passenger 146: Survived\n",
      "Passenger 147: Survived\n",
      "Passenger 148: Survived\n",
      "Passenger 149: Did not survive\n",
      "Passenger 150: Survived\n",
      "Passenger 151: Survived\n",
      "Passenger 152: Survived\n",
      "Passenger 153: Did not survive\n",
      "Passenger 154: Survived\n",
      "Passenger 155: Survived\n",
      "Passenger 156: Survived\n",
      "Passenger 157: Did not survive\n",
      "Passenger 158: Did not survive\n",
      "Passenger 159: Survived\n",
      "Passenger 160: Survived\n",
      "Passenger 161: Survived\n",
      "Passenger 162: Survived\n",
      "Passenger 163: Did not survive\n",
      "Passenger 164: Survived\n",
      "Passenger 165: Survived\n",
      "Passenger 166: Did not survive\n",
      "Passenger 167: Did not survive\n",
      "Passenger 168: Survived\n",
      "Passenger 169: Survived\n",
      "Passenger 170: Survived\n",
      "Passenger 171: Survived\n",
      "Passenger 172: Survived\n",
      "Passenger 173: Survived\n",
      "Passenger 174: Survived\n",
      "Passenger 175: Survived\n",
      "Passenger 176: Survived\n",
      "Passenger 177: Survived\n",
      "Passenger 178: Survived\n",
      "Passenger 179: Did not survive\n",
      "Passenger 180: Survived\n",
      "Passenger 181: Survived\n",
      "Passenger 182: Did not survive\n",
      "Passenger 183: Survived\n",
      "\n",
      "--- Summary ---\n",
      "Total Survived: 133\n",
      "Total Did Not Survive: 50\n"
     ]
    }
   ],
   "source": [
    "y_pred = dtc.predict(x_titanic)\n",
    "\n",
    "# Initialize counters\n",
    "survived_count = 0\n",
    "not_survived_count = 0\n",
    "\n",
    "# Loop through predictions\n",
    "for i, pred in enumerate(y_pred):\n",
    "    if pred == 1:\n",
    "        print(f\"Passenger {i + 1}: Survived\")\n",
    "        survived_count += 1\n",
    "    else:\n",
    "        print(f\"Passenger {i + 1}: Did not survive\")\n",
    "        not_survived_count += 1\n",
    "\n",
    "# Print summary\n",
    "print(\"\\n--- Summary ---\")\n",
    "print(f\"Total Survived: {survived_count}\")\n",
    "print(f\"Total Did Not Survive: {not_survived_count}\")\n"
   ]
  },
  {
   "cell_type": "markdown",
   "id": "67ff3cc9-4f89-46f6-9b19-0fff3181d5ff",
   "metadata": {},
   "source": [
    "# Model Evaluation (Check Accuracy):\n",
    "You can see how correctly the model is making predictions using accuracy_score."
   ]
  },
  {
   "cell_type": "code",
   "execution_count": 64,
   "id": "590f370a-31b4-4625-ac61-763ee501e19e",
   "metadata": {},
   "outputs": [
    {
     "name": "stdout",
     "output_type": "stream",
     "text": [
      "Accuracy: 0.8142076502732241\n"
     ]
    }
   ],
   "source": [
    "from sklearn.metrics import accuracy_score\n",
    "\n",
    "# Define your true labels\n",
    "y_true = y_titanic  # Make sure this variable exists\n",
    "\n",
    "# Calculate accuracy\n",
    "accuracy = accuracy_score(y_true, y_pred)\n",
    "\n",
    "print(\"Accuracy:\", accuracy)\n"
   ]
  },
  {
   "cell_type": "code",
   "execution_count": null,
   "id": "b8e9e6dd-d8da-412a-9e1b-f3c67fac5268",
   "metadata": {},
   "outputs": [],
   "source": []
  }
 ],
 "metadata": {
  "kernelspec": {
   "display_name": "Python 3 (ipykernel)",
   "language": "python",
   "name": "python3"
  },
  "language_info": {
   "codemirror_mode": {
    "name": "ipython",
    "version": 3
   },
   "file_extension": ".py",
   "mimetype": "text/x-python",
   "name": "python",
   "nbconvert_exporter": "python",
   "pygments_lexer": "ipython3",
   "version": "3.12.7"
  }
 },
 "nbformat": 4,
 "nbformat_minor": 5
}
